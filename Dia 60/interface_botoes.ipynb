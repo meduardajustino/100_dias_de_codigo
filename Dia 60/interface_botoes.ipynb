{
 "cells": [
  {
   "cell_type": "markdown",
   "metadata": {},
   "source": [
    "### Interface com Botões em Python"
   ]
  },
  {
   "cell_type": "code",
   "execution_count": 1,
   "metadata": {},
   "outputs": [],
   "source": [
    "import tkinter as tk\n",
    "\n",
    "def action1():\n",
    "    print(\"Botão 1 pressionado\")\n",
    "    \n",
    "def action2():\n",
    "    print(\"Botão 2 pressionado\")\n",
    "    \n",
    "def action3():\n",
    "    print(\"Botão 3 pressionado\")\n"
   ]
  },
  {
   "cell_type": "code",
   "execution_count": 4,
   "metadata": {},
   "outputs": [
    {
     "name": "stdout",
     "output_type": "stream",
     "text": [
      "Botão 3 pressionado\n",
      "Botão 2 pressionado\n",
      "Botão 1 pressionado\n",
      "Botão 2 pressionado\n",
      "Botão 3 pressionado\n",
      "Botão 1 pressionado\n",
      "Botão 2 pressionado\n",
      "Botão 3 pressionado\n",
      "Botão 1 pressionado\n",
      "Botão 3 pressionado\n",
      "Botão 2 pressionado\n",
      "Botão 3 pressionado\n",
      "Botão 2 pressionado\n",
      "Botão 1 pressionado\n",
      "Botão 1 pressionado\n",
      "Botão 3 pressionado\n",
      "Botão 2 pressionado\n"
     ]
    }
   ],
   "source": [
    "root = tk.Tk()\n",
    "root.title(\"Botões com Python\")\n",
    "\n",
    "btn1 = tk.Button(root, text=\"Botão 1\", command=action1)\n",
    "btn1.pack()\n",
    "\n",
    "btn2 = tk.Button(root, text=\"Botao 2\", command=action2)\n",
    "btn2.pack()\n",
    "\n",
    "btn3 = tk.Button(root, text=\"Botão 3\", command=action3)\n",
    "btn3.pack()\n",
    "\n",
    "root.mainloop()"
   ]
  }
 ],
 "metadata": {
  "kernelspec": {
   "display_name": "Python 3",
   "language": "python",
   "name": "python3"
  },
  "language_info": {
   "codemirror_mode": {
    "name": "ipython",
    "version": 3
   },
   "file_extension": ".py",
   "mimetype": "text/x-python",
   "name": "python",
   "nbconvert_exporter": "python",
   "pygments_lexer": "ipython3",
   "version": "3.13.0"
  }
 },
 "nbformat": 4,
 "nbformat_minor": 2
}
