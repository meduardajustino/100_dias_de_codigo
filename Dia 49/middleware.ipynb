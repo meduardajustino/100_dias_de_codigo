{
 "cells": [
  {
   "cell_type": "markdown",
   "metadata": {},
   "source": [
    "## Middleware\n",
    "Um middleware no Express.js é uma função que é executada antes da resposta ser enviada para o cliente.\n",
    "Ele tem a capacidade de:\n",
    "\n",
    "- Modificar a requisição ou a resposta.\n",
    "- Executar código adicional.\n",
    "- Encerrar o ciclo de requisição-resposta, ou...\n",
    "- Chamar o próximo middleware ou rota com next().\n",
    "\n",
    "Para conferir a implementação no meu projeto dos títulos do Vasco da Gama, pode conferir a pasta do dia 47."
   ]
  },
  {
   "cell_type": "code",
   "execution_count": 1,
   "metadata": {},
   "outputs": [
    {
     "data": {
      "text/plain": [
       "'\\n// Middleware para processar dados enviados via POST (formulários)\\napp.use(bodyParser.urlencoded({ extended: true }));\\napp.use(bodyParser.json());\\n\\n// Middleware global que será aplicado a todas as rotas\\napp.use((req, res, next) => {\\n  console.log(\"foi lançado um middleware\");\\n  console.log(`[${new Date().toISOString()}] ${req.method} request to ${req.url}`);\\n  next();\\n});\\n'"
      ]
     },
     "execution_count": 1,
     "metadata": {},
     "output_type": "execute_result"
    }
   ],
   "source": [
    "'''\n",
    "// Middleware para processar dados enviados via POST (formulários)\n",
    "app.use(bodyParser.urlencoded({ extended: true }));\n",
    "app.use(bodyParser.json());\n",
    "\n",
    "// Middleware global que será aplicado a todas as rotas\n",
    "app.use((req, res, next) => {\n",
    "  console.log(\"foi lançado um middleware\");\n",
    "  console.log(`[${new Date().toISOString()}] ${req.method} request to ${req.url}`);\n",
    "  next();\n",
    "});\n",
    "'''"
   ]
  }
 ],
 "metadata": {
  "kernelspec": {
   "display_name": "Python 3",
   "language": "python",
   "name": "python3"
  },
  "language_info": {
   "codemirror_mode": {
    "name": "ipython",
    "version": 3
   },
   "file_extension": ".py",
   "mimetype": "text/x-python",
   "name": "python",
   "nbconvert_exporter": "python",
   "pygments_lexer": "ipython3",
   "version": "3.13.0"
  }
 },
 "nbformat": 4,
 "nbformat_minor": 2
}
