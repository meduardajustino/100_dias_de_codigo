{
 "cells": [
  {
   "cell_type": "markdown",
   "metadata": {},
   "source": [
    "### Você pode conferir o processo do *Dia 63 - Models no Django* na pasta do dia 61. Como é um projeto que vai até o dia 70, focarei em fazer as atualizações em apenas uma pasta."
   ]
  }
 ],
 "metadata": {
  "language_info": {
   "name": "python"
  }
 },
 "nbformat": 4,
 "nbformat_minor": 2
}
