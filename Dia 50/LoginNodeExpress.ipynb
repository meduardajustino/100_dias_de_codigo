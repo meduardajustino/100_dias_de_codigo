{
 "cells": [
  {
   "cell_type": "markdown",
   "metadata": {},
   "source": [
    "# Login em Node + Express JS\n",
    "### (dia 50 do 100 dias de código)\n",
    "\n",
    "\n",
    "Para conferir a implementação no meu projeto dos títulos do Vasco da Gama, pode conferir a pasta do dia 47."
   ]
  },
  {
   "cell_type": "code",
   "execution_count": null,
   "metadata": {
    "vscode": {
     "languageId": "plaintext"
    }
   },
   "outputs": [],
   "source": []
  }
 ],
 "metadata": {
  "language_info": {
   "name": "python"
  }
 },
 "nbformat": 4,
 "nbformat_minor": 2
}
