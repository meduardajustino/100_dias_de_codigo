{
 "cells": [
  {
   "cell_type": "markdown",
   "metadata": {},
   "source": [
    "## Análise de Palavras em um Texto\n",
    "\n",
    "### Escreva um programa que analisa um texto fornecido pelo usuário, contando o número de palavras, frases e caracteres."
   ]
  },
  {
   "cell_type": "code",
   "execution_count": 20,
   "metadata": {},
   "outputs": [
    {
     "name": "stdout",
     "output_type": "stream",
     "text": [
      "Confirmando o texto: A verdade é que não aguentamos nem nós mesmo. O Universo é uma imensidão de matéria escura, será que tem fim? \n",
      "🤖 A quantidade de palavras do texto é de 21 palavras.\n",
      "🤖 A quantidade de frases do texto é de 2 frases.\n",
      "🤖 A quantidade de caracteres do texto é de 110 caracteres.\n"
     ]
    }
   ],
   "source": [
    "texto = input(\"Digite a frase/texto para análise: \")\n",
    "print(f'Confirmando o texto: {texto}')\n",
    "\n",
    "#contar palavras\n",
    "palavras = texto.split()\n",
    "print(f'🤖 A quantidade de palavras do texto é de {len(palavras)} palavras.')\n",
    "\n",
    "#contar frases\n",
    "frases = texto.split(\".\")\n",
    "frases = [i for i in frases if i.strip()]\n",
    "print(f'🤖 A quantidade de frases do texto é de {len(frases)} frases.')\n",
    "\n",
    "#contar caracteres\n",
    "caracteres = len(texto)\n",
    "print(f'🤖 A quantidade de caracteres do texto é de {caracteres} caracteres.')"
   ]
  }
 ],
 "metadata": {
  "kernelspec": {
   "display_name": "Python 3",
   "language": "python",
   "name": "python3"
  },
  "language_info": {
   "codemirror_mode": {
    "name": "ipython",
    "version": 3
   },
   "file_extension": ".py",
   "mimetype": "text/x-python",
   "name": "python",
   "nbconvert_exporter": "python",
   "pygments_lexer": "ipython3",
   "version": "3.13.0"
  }
 },
 "nbformat": 4,
 "nbformat_minor": 2
}
