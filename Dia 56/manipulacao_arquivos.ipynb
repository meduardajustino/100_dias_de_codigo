{
 "cells": [
  {
   "cell_type": "markdown",
   "metadata": {},
   "source": [
    "## Manipulação de Arquivos\n",
    "🗂️Dia 56 – 29/10/24\n",
    "\n",
    "Crie um programa que lê o conteúdo de um arquivo, conta o número de palavras e imprime na tela.\n",
    "- (Bônus - caracteres)"
   ]
  },
  {
   "cell_type": "code",
   "execution_count": 5,
   "metadata": {},
   "outputs": [
    {
     "name": "stdout",
     "output_type": "stream",
     "text": [
      "O numéro de palavras no arquivo 100days.txt é: 68.\n"
     ]
    }
   ],
   "source": [
    "def contar_palavras(nome_arquivo):\n",
    "    try:\n",
    "        with open(nome_arquivo, 'r', encoding='utf-8') as arquivo:\n",
    "            conteudo = arquivo.read()\n",
    "            palavras = conteudo.split()\n",
    "            num_palavras = len(palavras)\n",
    "            return num_palavras\n",
    "    except FileNotFoundError:\n",
    "        print(f'O arquivo {nome_arquivo} não foi encontrado.')\n",
    "        return 0\n",
    "    except Exception as err:\n",
    "        print(f'Ocorreu um erro ao ler o arquivo: {err}')\n",
    "        return 0\n",
    "        \n",
    "def main():\n",
    "    nome_arquivo = input(\"Digite o nome do arquivo a ser lido: \")\n",
    "    num_palavras = contar_palavras(nome_arquivo)\n",
    "    print(f'O numéro de palavras no arquivo {nome_arquivo} é: {num_palavras}.')\n",
    "\n",
    "if __name__ == '__main__':\n",
    "    main()"
   ]
  },
  {
   "cell_type": "code",
   "execution_count": 13,
   "metadata": {},
   "outputs": [
    {
     "name": "stdout",
     "output_type": "stream",
     "text": [
      "O numéro de caracteres no arquivo 100days.txt é: 521.\n"
     ]
    }
   ],
   "source": [
    "def contar_caracteres(nome_arquivo):\n",
    "    try:\n",
    "        with open(nome_arquivo, 'r', encoding='utf-8') as arquivo:\n",
    "            conteudo = arquivo.read()\n",
    "            num_caracteres = len(conteudo)\n",
    "            return num_caracteres\n",
    "    except FileNotFoundError:\n",
    "        print(f'O arquivo {nome_arquivo} não foi encontrado.')\n",
    "        return 0\n",
    "    except Exception as err:\n",
    "        print(f'Ocorreu um erro ao ler o arquivo: {err}')\n",
    "        return 0\n",
    "    \n",
    "def principal():\n",
    "    nome_arquivo = input(\"Digite o nome do arquivo a ser lido: \")\n",
    "    num_caracteres = contar_caracteres(nome_arquivo)\n",
    "    print(f'O numéro de caracteres no arquivo {nome_arquivo} é: {num_caracteres}.')\n",
    "    \n",
    "\n",
    "principal()\n"
   ]
  }
 ],
 "metadata": {
  "kernelspec": {
   "display_name": "Python 3",
   "language": "python",
   "name": "python3"
  },
  "language_info": {
   "codemirror_mode": {
    "name": "ipython",
    "version": 3
   },
   "file_extension": ".py",
   "mimetype": "text/x-python",
   "name": "python",
   "nbconvert_exporter": "python",
   "pygments_lexer": "ipython3",
   "version": "3.13.0"
  }
 },
 "nbformat": 4,
 "nbformat_minor": 2
}
