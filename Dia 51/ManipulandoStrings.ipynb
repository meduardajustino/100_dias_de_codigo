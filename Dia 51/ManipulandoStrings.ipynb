frase = input("Digite uma frase para analisarmos: ")
print(f'A frase possui {len(frase)} caracteres')
print(f'A frase invertida fica: {frase[::-1]}')
print(f'As palavras da frase são: ')
for i in frase.split():
  print(i)

# manipulações bônus
print(f'A frase possui {len(frase.split())} palavras')
print(f'A frase possui {frase.count(" ")} espaços')
letra = (input("Digite a letra que você quer saber quantas vezes aparece na frase: ")).lower()

print(f'A frase possui {frase.count(letra)} letras {letra}')
print(f'A frase em letras maiúsculas fica: {frase.upper()}')
print(f'A frase em letras minúsculas fica: {frase.lower()}')
