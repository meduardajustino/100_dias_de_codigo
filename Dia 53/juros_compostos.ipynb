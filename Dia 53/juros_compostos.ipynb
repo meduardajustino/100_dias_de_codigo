{
 "cells": [
  {
   "cell_type": "markdown",
   "metadata": {},
   "source": [
    "## Calculadora de juros compostos 💰🧮💸\n",
    "### Digite os dados pedidos e tenha seu resultado"
   ]
  },
  {
   "cell_type": "code",
   "execution_count": 3,
   "metadata": {},
   "outputs": [
    {
     "name": "stdout",
     "output_type": "stream",
     "text": [
      "O montante é de R$86497.56.\n"
     ]
    }
   ],
   "source": [
    "# Dados do usuário\n",
    "capital_inicial = float(input(\"Qual o capital inicial em reais? \"))\n",
    "juros = float(input(\"Qual a taxa de juros mensal (%)? \"))\n",
    "tempo = int(input(\"Por quantos meses ocorrerá essa transação?\"))\n",
    "\n",
    "# Função criada\n",
    "def juros_compostos(capital_inicial, juros, tempo):\n",
    "    if juros > 0:\n",
    "        juros = juros/100\n",
    "    else:\n",
    "        return \"A taxa de juros deve ser maior que 0.\"\n",
    "\n",
    "    montante = capital_inicial * (1 + juros) ** tempo\n",
    "    return montante\n",
    "    \n",
    "# Utilizar a função\n",
    "montante = juros_compostos(capital_inicial, juros, tempo)\n",
    "print(f'O montante é de R${montante:.2f}.')"
   ]
  }
 ],
 "metadata": {
  "kernelspec": {
   "display_name": "Python 3",
   "language": "python",
   "name": "python3"
  },
  "language_info": {
   "codemirror_mode": {
    "name": "ipython",
    "version": 3
   },
   "file_extension": ".py",
   "mimetype": "text/x-python",
   "name": "python",
   "nbconvert_exporter": "python",
   "pygments_lexer": "ipython3",
   "version": "3.13.0"
  }
 },
 "nbformat": 4,
 "nbformat_minor": 2
}
