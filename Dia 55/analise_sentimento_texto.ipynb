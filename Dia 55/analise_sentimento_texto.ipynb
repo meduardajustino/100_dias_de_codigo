{
 "cells": [
  {
   "cell_type": "markdown",
   "metadata": {},
   "source": [
    "# Análise de Sentimentos em texto 🧠😊🤖💕\n",
    "\n",
    "### Crie um programa que realiza a análise de sentimento de um texto fornecido pelo usuário. O programa deve utilizar uma biblioteca de processamento de linguagem natural (NLP) para identificar se o sentimento do texto é positivo, negativo ou neutro."
   ]
  },
  {
   "cell_type": "code",
   "execution_count": 1,
   "metadata": {},
   "outputs": [],
   "source": [
    "from textblob import TextBlob\n",
    "from deep_translator import GoogleTranslator"
   ]
  },
  {
   "cell_type": "code",
   "execution_count": 3,
   "metadata": {},
   "outputs": [],
   "source": [
    "# O textblob funciona melhor em inglês, por isso é recomendado traduzir de pt para en\n",
    "\n",
    "def translate_to_english(text):\n",
    "    translator = GoogleTranslator(source=\"pt\", target=\"en\")\n",
    "    translation = translator.translate(text)\n",
    "    return translation\n",
    "\n",
    "def analyze_sentiment(text):\n",
    "    text_in_en = translate_to_english(text)\n",
    "    blob = TextBlob(text_in_en)\n",
    "    sentiment = blob.sentiment\n",
    "    return sentiment"
   ]
  },
  {
   "cell_type": "code",
   "execution_count": 4,
   "metadata": {},
   "outputs": [
    {
     "name": "stdout",
     "output_type": "stream",
     "text": [
      "Texto: Comecei a gostar de futebol apenas com 12 anos, gostar ao ponto de responsabilizar jogos pelos meus estados emocionais. Cresci falando que torcia para o Vasco da Gama e que o amava, isso continua até hoje, mesmo nunca tendo ido a São Januário. Espero um dia poder ir e gritar aos 4 cantos do mundo que a torcida do Vascão está sempre tão linda.\n",
      "Sentimento: Sentiment(polarity=0.39999999999999997, subjectivity=0.7416666666666667)\n"
     ]
    }
   ],
   "source": [
    "texto = \"Comecei a gostar de futebol apenas com 12 anos, gostar ao ponto de responsabilizar jogos pelos meus estados emocionais. Cresci falando que torcia para o Vasco da Gama e que o amava, isso continua até hoje, mesmo nunca tendo ido a São Januário. Espero um dia poder ir e gritar aos 4 cantos do mundo que a torcida do Vascão está sempre tão linda.\"\n",
    "sentimento_detectado = analyze_sentiment(texto)\n",
    "print(f'Texto: {texto}\\nSentimento: {sentimento_detectado}')"
   ]
  },
  {
   "cell_type": "markdown",
   "metadata": {},
   "source": [
    "### Polaridade:\n",
    "Definição: A polaridade indica o quão positivo ou negativo é o sentimento expresso em um texto.\n",
    "Intervalo: Varia de -1 (muito negativo) a 1 (muito positivo).\n",
    "\n",
    "### Subjetividade:\n",
    "Definição: A subjetividade mede o quanto o texto é subjetivo ou objetivo.\n",
    "Intervalo: Varia de 0 (muito objetivo) a 1 (muito subjetivo).\n",
    "\n",
    "\n",
    "\n",
    "---\n",
    "\n",
    "No meu resultado anterior, Sentiment(polarity=0.4, subjectivity=0.74) indica que o texto é ligeiramente positivo e bastante subjetivo."
   ]
  }
 ],
 "metadata": {
  "kernelspec": {
   "display_name": "Python 3",
   "language": "python",
   "name": "python3"
  },
  "language_info": {
   "codemirror_mode": {
    "name": "ipython",
    "version": 3
   },
   "file_extension": ".py",
   "mimetype": "text/x-python",
   "name": "python",
   "nbconvert_exporter": "python",
   "pygments_lexer": "ipython3",
   "version": "3.13.0"
  }
 },
 "nbformat": 4,
 "nbformat_minor": 2
}
