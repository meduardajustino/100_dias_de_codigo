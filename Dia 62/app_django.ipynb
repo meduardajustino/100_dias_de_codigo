{
 "cells": [
  {
   "cell_type": "markdown",
   "metadata": {},
   "source": [
    "### Você pode conferir o processo do *Dia 62 - Criando um aplicativo em Django* na pasta do dia 61. Como é um projeto que vai até o dia 70, focarei em fazer as atualizações em apenas uma pasta."
   ]
  }
 ],
 "metadata": {
  "language_info": {
   "name": "python"
  }
 },
 "nbformat": 4,
 "nbformat_minor": 2
}
